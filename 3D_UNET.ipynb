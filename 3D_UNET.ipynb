{
  "cells": [
    {
      "cell_type": "code",
      "execution_count": 1,
      "id": "c1e7a6e2",
      "metadata": {
        "ExecuteTime": {
          "end_time": "2023-12-30T20:10:31.196636Z",
          "start_time": "2023-12-30T20:10:31.191415Z"
        },
        "id": "c1e7a6e2"
      },
      "outputs": [],
      "source": [
        "\n",
        "import tensorflow as tf\n",
        "from tensorflow.keras. layers import Conv2D, BatchNormalization, Activation, MaxPool2D, Conv2DTranspose, Concatenate ,Input\n",
        "from tensorflow. keras.models import Model\n"
      ]
    },
    {
      "cell_type": "code",
      "execution_count": 2,
      "id": "80715efd",
      "metadata": {
        "ExecuteTime": {
          "end_time": "2023-12-30T20:08:49.629075Z",
          "start_time": "2023-12-30T20:08:49.623428Z"
        },
        "id": "80715efd"
      },
      "outputs": [],
      "source": [
        "# Building UNET\n",
        "# Conv Block\n",
        "def conv_block (inputs, num_filters):\n",
        "    x = Conv2D (num_filters, 3, padding=\"same\") (inputs)\n",
        "    x = BatchNormalization()(x)\n",
        "    x = Activation (\"relu\") (x)\n",
        "\n",
        "    x = Conv2D (num_filters, 3, padding=\"same\")(x)\n",
        "    x = BatchNormalization()(x)\n",
        "    x = Activation (\"relu\") (x)\n",
        "    return x"
      ]
    },
    {
      "cell_type": "code",
      "execution_count": 3,
      "id": "dc065059",
      "metadata": {
        "ExecuteTime": {
          "end_time": "2023-12-30T20:14:28.252406Z",
          "start_time": "2023-12-30T20:14:28.246938Z"
        },
        "id": "dc065059"
      },
      "outputs": [],
      "source": [
        "#6\n",
        "# Code\n",
        "# Encoder Block\n",
        "def encoder_block (inputs, num_filters):\n",
        "    x = conv_block (inputs, num_filters)\n",
        "    p = MaxPool2D((2, 2))(x)\n",
        "\n",
        "    return x, p\n"
      ]
    },
    {
      "cell_type": "code",
      "execution_count": 6,
      "id": "571d8769",
      "metadata": {
        "ExecuteTime": {
          "end_time": "2023-12-30T20:15:33.508702Z",
          "start_time": "2023-12-30T20:15:33.503363Z"
        },
        "id": "571d8769"
      },
      "outputs": [],
      "source": [
        "# Decoder Block\n",
        "def decoder_block (inputs, skip, num_filters):\n",
        "    x = Conv2DTranspose (num_filters, (2, 2), strides=2, padding=\"same\") (inputs)\n",
        "    x = Concatenate()([x, skip])\n",
        "    x = conv_block (x, num_filters)\n",
        "    return x"
      ]
    },
    {
      "cell_type": "code",
      "execution_count": 4,
      "id": "a877d1bf",
      "metadata": {
        "ExecuteTime": {
          "end_time": "2023-12-30T20:15:34.102431Z",
          "start_time": "2023-12-30T20:15:34.094879Z"
        },
        "id": "a877d1bf"
      },
      "outputs": [],
      "source": [
        "#7\n",
        "# UNET\n",
        "def bulid_model ():\n",
        "    inputs = Input(shape=(256,256,3))\n",
        "    \"\"\" Encoder \"\"\"\n",
        "\n",
        "    s1, p1 = encoder_block (inputs, 64)\n",
        "    s2, p2 = encoder_block (p1, 128)\n",
        "    s3, p3 = encoder_block (p2, 256)\n",
        "    s4, p4 = encoder_block (p3, 512)\n",
        "\n",
        "    \"\"\" Bridge \"\"\"\n",
        "    b1 = conv_block(p4, 1024)\n",
        "\n",
        "    \"\"\" Decoder \"\"\"\n",
        "\n",
        "    d1= decoder_block (b1, s4, 512)\n",
        "    d2= decoder_block (d1, s3, 256)\n",
        "    d3= decoder_block (d2, s2, 128)\n",
        "    d4= decoder_block (d3, s1, 64)\n",
        "\n",
        "    outputs = Conv2D (1, 1, padding=\"same\", activation=\"sigmoid\") (d4)\n",
        "\n",
        "\n",
        "    model = Model (inputs, outputs, name=\"UNET\")\n",
        "    print(outputs.shape)\n",
        "    return model"
      ]
    },
    {
      "cell_type": "code",
      "execution_count": 7,
      "id": "de369575",
      "metadata": {
        "ExecuteTime": {
          "end_time": "2023-12-30T20:15:36.245426Z",
          "start_time": "2023-12-30T20:15:34.823673Z"
        },
        "scrolled": true,
        "colab": {
          "base_uri": "https://localhost:8080/"
        },
        "id": "de369575",
        "outputId": "16dd461f-8eb5-4218-d288-37b833d03500"
      },
      "outputs": [
        {
          "output_type": "stream",
          "name": "stdout",
          "text": [
            "(None, 256, 256, 1)\n"
          ]
        },
        {
          "output_type": "execute_result",
          "data": {
            "text/plain": [
              "<keras.src.engine.functional.Functional at 0x7f7d55b390c0>"
            ]
          },
          "metadata": {},
          "execution_count": 7
        }
      ],
      "source": [
        "bulid_model()"
      ]
    },
    {
      "cell_type": "code",
      "execution_count": null,
      "id": "40e95d00",
      "metadata": {
        "id": "40e95d00"
      },
      "outputs": [],
      "source": []
    }
  ],
  "metadata": {
    "kernelspec": {
      "display_name": "Python 3 (ipykernel)",
      "language": "python",
      "name": "python3"
    },
    "language_info": {
      "codemirror_mode": {
        "name": "ipython",
        "version": 3
      },
      "file_extension": ".py",
      "mimetype": "text/x-python",
      "name": "python",
      "nbconvert_exporter": "python",
      "pygments_lexer": "ipython3",
      "version": "3.11.3"
    },
    "colab": {
      "provenance": []
    }
  },
  "nbformat": 4,
  "nbformat_minor": 5
}